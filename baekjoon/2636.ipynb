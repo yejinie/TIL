{
 "cells": [
  {
   "cell_type": "markdown",
   "id": "f712efa9",
   "metadata": {},
   "source": [
    "# 2636. 치즈"
   ]
  },
  {
   "cell_type": "code",
   "execution_count": null,
   "id": "6baa7993",
   "metadata": {},
   "outputs": [],
   "source": [
    "from collections import deque\n",
    "\n",
    "def bfs():\n",
    "    queue = deque()\n",
    "    cheese = deque()\n",
    "    ans = -1\n",
    "    piece = 0\n",
    "    \n",
    "    dx = [0, 0, 1, -1]\n",
    "    dy = [1, -1, 0, 0]\n",
    "    \n",
    "    queue.append([0, 0])\n",
    "    matrix[0][0] = -1\n",
    "    \n",
    "    while True:\n",
    "        while queue:\n",
    "            a, b = queue.popleft()\n",
    "            \n",
    "            for i in range(4):\n",
    "                x = dx[i] + a\n",
    "                y = dy[i] + b\n",
    "                \n",
    "                if 0 <= x < col and 0 <= y < raw:\n",
    "                    if matrix[y][x] == 0:\n",
    "                        queue.append([x, y])\n",
    "                    elif matrix[y][x] == 1:\n",
    "                        cheese.append([x, y])\n",
    "                    matrix[y][x] = -1\n",
    "        ans += 1\n",
    "        \n",
    "        if cheese:\n",
    "            piece = len(cheese)\n",
    "            queue = cheese\n",
    "            cheese = deque()\n",
    "        else:\n",
    "            return(f'{ans}\\n{piece}')\n",
    "\n",
    "raw, col = map(int, input().split())\n",
    "\n",
    "matrix = ['']*raw\n",
    "for i in range(raw):\n",
    "    matrix[i] = list(map(int, input().split()))\n",
    "\n",
    "print(bfs())"
   ]
  }
 ],
 "metadata": {
  "kernelspec": {
   "display_name": "Python 3 (ipykernel)",
   "language": "python",
   "name": "python3"
  },
  "language_info": {
   "codemirror_mode": {
    "name": "ipython",
    "version": 3
   },
   "file_extension": ".py",
   "mimetype": "text/x-python",
   "name": "python",
   "nbconvert_exporter": "python",
   "pygments_lexer": "ipython3",
   "version": "3.10.2"
  }
 },
 "nbformat": 4,
 "nbformat_minor": 5
}
