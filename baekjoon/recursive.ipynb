{
 "cells": [
  {
   "cell_type": "code",
   "execution_count": 17,
   "metadata": {
    "ExecuteTime": {
     "end_time": "2021-07-09T11:44:55.302998Z",
     "start_time": "2021-07-09T11:44:54.260229Z"
    }
   },
   "outputs": [
    {
     "name": "stdout",
     "output_type": "stream",
     "text": [
      "0\n",
      "1\n"
     ]
    }
   ],
   "source": [
    "#10872\n",
    "\n",
    "def fac(n):\n",
    "    if n>1:\n",
    "        return n * fac(n-1)\n",
    "    return 1\n",
    "    \n",
    "\n",
    "N = int(input())\n",
    "print(fac(N))"
   ]
  },
  {
   "cell_type": "code",
   "execution_count": 8,
   "metadata": {
    "ExecuteTime": {
     "end_time": "2021-07-11T13:10:45.325833Z",
     "start_time": "2021-07-11T13:10:44.386303Z"
    }
   },
   "outputs": [
    {
     "name": "stdout",
     "output_type": "stream",
     "text": [
      "9\n",
      "*********\n",
      "* ** ** *\n",
      "*********\n",
      "***   ***\n",
      "* *   * *\n",
      "***   ***\n",
      "*********\n",
      "* ** ** *\n",
      "*********\n"
     ]
    }
   ],
   "source": [
    "# 2447\n",
    "\n",
    "def star(n, row, col):\n",
    "    if n==1:\n",
    "        arr[0][0] = '*'\n",
    "        \n",
    "    if n == 3:    \n",
    "        for i in range(3):\n",
    "            for j in range(3):\n",
    "                if i == 1 and j == 1:\n",
    "                    arr[row + i][col + j] = ' '\n",
    "                else:\n",
    "                    arr[row + i][col + j] = '*'\n",
    "        \n",
    "    else:\n",
    "        for i in range(3):\n",
    "            for j in range(3):\n",
    "                if i != 1 or j != 1:\n",
    "                    star(n//3, row + i*(n//3), col + j*(n//3))\n",
    "        \n",
    "arr = []\n",
    "\n",
    "N = int(input())\n",
    "\n",
    "for i in range(N):\n",
    "    arr.append([])\n",
    "    for j in range(N):\n",
    "        arr[i].append(' ')\n",
    "\n",
    "star(N, 0, 0)\n",
    "\n",
    "for i in range(N):\n",
    "    print(''.join(arr[i]))"
   ]
  },
  {
   "cell_type": "code",
   "execution_count": null,
   "metadata": {},
   "outputs": [],
   "source": []
  }
 ],
 "metadata": {
  "kernelspec": {
   "display_name": "Python 3",
   "language": "python",
   "name": "python3"
  },
  "language_info": {
   "codemirror_mode": {
    "name": "ipython",
    "version": 3
   },
   "file_extension": ".py",
   "mimetype": "text/x-python",
   "name": "python",
   "nbconvert_exporter": "python",
   "pygments_lexer": "ipython3",
   "version": "3.8.5"
  },
  "toc": {
   "base_numbering": 1,
   "nav_menu": {},
   "number_sections": true,
   "sideBar": true,
   "skip_h1_title": false,
   "title_cell": "Table of Contents",
   "title_sidebar": "Contents",
   "toc_cell": false,
   "toc_position": {},
   "toc_section_display": true,
   "toc_window_display": false
  }
 },
 "nbformat": 4,
 "nbformat_minor": 4
}
