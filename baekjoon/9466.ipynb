{
 "cells": [
  {
   "cell_type": "code",
   "execution_count": null,
   "id": "02a9c40b",
   "metadata": {},
   "outputs": [],
   "source": [
    "import sys\n",
    "sys.setrecursionlimit(10**7)\n",
    "\n",
    "def dfs(i):\n",
    "    global cnt\n",
    "    \n",
    "    tmp.append(i)\n",
    "    visited[i] = True\n",
    "    nxt = arr[i]\n",
    "    \n",
    "    if visited[nxt]:\n",
    "        if nxt in tmp:\n",
    "            cnt += len(tmp[tmp.index(nxt):])\n",
    "        return\n",
    "    else:\n",
    "        dfs(nxt)\n",
    "    \n",
    "T = int(input())\n",
    "for i in range(T):\n",
    "    n = int(input())\n",
    "    arr = [0] + list(map(int, input().split()))\n",
    "    visited = [False] * (n+1)\n",
    "    cnt = 0\n",
    "    for i in range(1, n+1):\n",
    "        if not visited[i]:\n",
    "            tmp = []\n",
    "            dfs(i)\n",
    "    print(n-cnt)"
   ]
  },
  {
   "cell_type": "code",
   "execution_count": 1,
   "id": "cebf8650",
   "metadata": {},
   "outputs": [
    {
     "name": "stdout",
     "output_type": "stream",
     "text": [
      "[0, 1]\n"
     ]
    }
   ],
   "source": [
    "a = [0]\n",
    "b = a + [1]\n",
    "print(b)"
   ]
  },
  {
   "cell_type": "code",
   "execution_count": 2,
   "id": "3d121132",
   "metadata": {},
   "outputs": [
    {
     "data": {
      "text/plain": [
       "100000"
      ]
     },
     "execution_count": 2,
     "metadata": {},
     "output_type": "execute_result"
    }
   ],
   "source": [
    "10**5"
   ]
  }
 ],
 "metadata": {
  "kernelspec": {
   "display_name": "Python 3 (ipykernel)",
   "language": "python",
   "name": "python3"
  },
  "language_info": {
   "codemirror_mode": {
    "name": "ipython",
    "version": 3
   },
   "file_extension": ".py",
   "mimetype": "text/x-python",
   "name": "python",
   "nbconvert_exporter": "python",
   "pygments_lexer": "ipython3",
   "version": "3.10.2"
  }
 },
 "nbformat": 4,
 "nbformat_minor": 5
}
