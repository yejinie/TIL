{
 "cells": [
  {
   "cell_type": "code",
   "execution_count": null,
   "metadata": {
    "ExecuteTime": {
     "end_time": "2021-06-30T08:00:12.712858Z",
     "start_time": "2021-06-30T08:00:01.790011Z"
    }
   },
   "outputs": [],
   "source": [
    "#2562 최댓값\n",
    "\n",
    "max_num = 0\n",
    "count = 0\n",
    "\n",
    "for i in range(9):\n",
    "    a = int(input())\n",
    "    \n",
    "    if a>max_num:\n",
    "        max_num = a\n",
    "        count =  i+1\n",
    "        \n",
    "print(max_num)\n",
    "print(count)"
   ]
  },
  {
   "cell_type": "code",
   "execution_count": null,
   "metadata": {
    "ExecuteTime": {
     "end_time": "2021-06-30T08:54:54.971654Z",
     "start_time": "2021-06-30T08:54:52.461198Z"
    }
   },
   "outputs": [],
   "source": [
    "#1546 평균\n",
    "\n",
    "N = int(input())\n",
    "arr = list(map(int, input().split()))\n",
    "max_score = max(arr)\n",
    "\n",
    "for i in range(N):\n",
    "    arr[i] = arr[i] / max_score * 100\n",
    "    \n",
    "print(sum(arr)/N)"
   ]
  },
  {
   "cell_type": "code",
   "execution_count": 18,
   "metadata": {
    "ExecuteTime": {
     "end_time": "2021-06-30T12:28:02.266068Z",
     "start_time": "2021-06-30T12:27:37.966407Z"
    },
    "scrolled": true
   },
   "outputs": [
    {
     "name": "stdout",
     "output_type": "stream",
     "text": [
      "5\n",
      "5 50 50 70 80 100\n",
      "40.000%\n",
      "7 100 95 90 80 70 60 50\n",
      "57.143%\n",
      "3 70 90 80\n",
      "33.333%\n",
      "3 70 90 81\n",
      "66.667%\n",
      "9 100 99 98 97 96 95 94 93 91\n",
      "55.556%\n"
     ]
    }
   ],
   "source": [
    "#4344 평균은 넘겠지\n",
    "\n",
    "C = int(input())\n",
    "for i in range(C):\n",
    "    arr = list(map(int, input().split()))\n",
    "    mean = sum(arr[1:]) / arr[0]\n",
    "    count = 0\n",
    "    for j in range(1, arr[0]+1):\n",
    "        if arr[j] > mean:\n",
    "            count = count + 1\n",
    "    print('{0:5.3f}%'.format(count/arr[0]*100))"
   ]
  },
  {
   "cell_type": "code",
   "execution_count": null,
   "metadata": {},
   "outputs": [],
   "source": []
  }
 ],
 "metadata": {
  "kernelspec": {
   "display_name": "Python 3",
   "language": "python",
   "name": "python3"
  },
  "toc": {
   "base_numbering": 1,
   "nav_menu": {},
   "number_sections": true,
   "sideBar": true,
   "skip_h1_title": false,
   "title_cell": "Table of Contents",
   "title_sidebar": "Contents",
   "toc_cell": false,
   "toc_position": {},
   "toc_section_display": true,
   "toc_window_display": false
  }
 },
 "nbformat": 4,
 "nbformat_minor": 4
}
