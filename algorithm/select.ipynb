{
 "cells": [
  {
   "cell_type": "markdown",
   "metadata": {},
   "source": [
    "# 선택 알고리즘"
   ]
  },
  {
   "cell_type": "markdown",
   "metadata": {
    "ExecuteTime": {
     "end_time": "2021-07-31T10:23:46.905239Z",
     "start_time": "2021-07-31T10:23:46.893588Z"
    }
   },
   "source": [
    "## 평균 선형 시간 선택 알고리즘\n",
    "i번째로 작은 원소 찾기\n",
    "\n",
    "ex. [5, 3, 1, 6, 2, 4]에서 2번째로 작은 원소 찾기"
   ]
  },
  {
   "cell_type": "code",
   "execution_count": 4,
   "metadata": {
    "ExecuteTime": {
     "end_time": "2021-07-31T10:24:27.885673Z",
     "start_time": "2021-07-31T10:24:27.854466Z"
    }
   },
   "outputs": [
    {
     "name": "stdout",
     "output_type": "stream",
     "text": [
      "2\n"
     ]
    }
   ],
   "source": [
    "def select(a, p, r, i):\n",
    "    if p==r:\n",
    "        return a[p]\n",
    "    \n",
    "    q = partition(a, p, r)\n",
    "    k = q-p+1\n",
    "    \n",
    "    if i<k:\n",
    "        return select(a, p, q-1, i)\n",
    "    elif i==k:\n",
    "        return a[q]\n",
    "    else:\n",
    "        return select(a, q+1, r, i-k)\n",
    "    \n",
    "def partition(a, p, r):\n",
    "    pivot = a[r]\n",
    "    i = p-1\n",
    "    for j in range(p, r):\n",
    "        if a[j] <= pivot:\n",
    "            i += 1\n",
    "            a[i], a[j] = a[j], a[i]\n",
    "    \n",
    "    a[r], a[i+1] = a[i+1], a[r]\n",
    "    \n",
    "    return i+1\n",
    "\n",
    "arr = [5, 3, 1, 6, 2, 4]\n",
    "print(select(arr, 0, len(arr)-1, 2))"
   ]
  },
  {
   "cell_type": "markdown",
   "metadata": {},
   "source": [
    "## 최악의 경우에도 선형 시간을 보장하는 선택 알고리즘"
   ]
  },
  {
   "cell_type": "code",
   "execution_count": null,
   "metadata": {},
   "outputs": [],
   "source": [
    "def linearSelect(a, p, r, i):\n",
    "def findpivot(j):\n",
    "def partition(a, p, r):\n",
    "    "
   ]
  }
 ],
 "metadata": {
  "kernelspec": {
   "display_name": "Python 3",
   "language": "python",
   "name": "python3"
  },
  "language_info": {
   "codemirror_mode": {
    "name": "ipython",
    "version": 3
   },
   "file_extension": ".py",
   "mimetype": "text/x-python",
   "name": "python",
   "nbconvert_exporter": "python",
   "pygments_lexer": "ipython3",
   "version": "3.8.5"
  },
  "toc": {
   "base_numbering": 1,
   "nav_menu": {},
   "number_sections": true,
   "sideBar": true,
   "skip_h1_title": false,
   "title_cell": "Table of Contents",
   "title_sidebar": "Contents",
   "toc_cell": false,
   "toc_position": {},
   "toc_section_display": true,
   "toc_window_display": false
  }
 },
 "nbformat": 4,
 "nbformat_minor": 4
}
