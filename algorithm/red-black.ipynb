{
 "cells": [
  {
   "cell_type": "markdown",
   "metadata": {},
   "source": [
    "# 검색 트리 - 레드블랙\n",
    "- 균형잡힌 이진 검색 트리\n",
    "- O(logN)"
   ]
  },
  {
   "cell_type": "markdown",
   "metadata": {},
   "source": [
    "레드 블랙 특성\n",
    "- 루트는 블랙\n",
    "- 모든 리프는 블랙\n",
    "- 노드가 레드이면 그 자식은 반드시 블랙 (No Double Red)\n",
    "- 루트노드에서 리프노드에 이르는 경로에서 만나는 블랙 노드의 수는 모두 같다. (Black Depth)\n"
   ]
  },
  {
   "cell_type": "markdown",
   "metadata": {
    "ExecuteTime": {
     "end_time": "2021-08-18T08:22:51.230583Z",
     "start_time": "2021-08-18T08:22:51.202852Z"
    }
   },
   "source": [
    "1. 루트노드 Black\n",
    "2. 새로 추가되는 노드는 Red"
   ]
  },
  {
   "cell_type": "code",
   "execution_count": null,
   "metadata": {},
   "outputs": [],
   "source": []
  }
 ],
 "metadata": {
  "kernelspec": {
   "display_name": "Python 3",
   "language": "python",
   "name": "python3"
  },
  "language_info": {
   "codemirror_mode": {
    "name": "ipython",
    "version": 3
   },
   "file_extension": ".py",
   "mimetype": "text/x-python",
   "name": "python",
   "nbconvert_exporter": "python",
   "pygments_lexer": "ipython3",
   "version": "3.8.5"
  },
  "toc": {
   "base_numbering": 1,
   "nav_menu": {},
   "number_sections": true,
   "sideBar": true,
   "skip_h1_title": false,
   "title_cell": "Table of Contents",
   "title_sidebar": "Contents",
   "toc_cell": false,
   "toc_position": {},
   "toc_section_display": true,
   "toc_window_display": false
  }
 },
 "nbformat": 4,
 "nbformat_minor": 4
}
