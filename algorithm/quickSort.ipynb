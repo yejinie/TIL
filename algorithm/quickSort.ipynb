{
 "cells": [
  {
   "cell_type": "code",
   "execution_count": 2,
   "metadata": {
    "ExecuteTime": {
     "end_time": "2021-07-31T03:45:54.711205Z",
     "start_time": "2021-07-31T03:45:54.696258Z"
    }
   },
   "outputs": [
    {
     "name": "stdout",
     "output_type": "stream",
     "text": [
      "[1, 2, 3, 4, 5, 6]\n"
     ]
    }
   ],
   "source": [
    "#Quik sort 퀵정렬\n",
    "\n",
    "def quickSort(a, p, r):\n",
    "    if p<r:\n",
    "        q = partition(a, p, r)\n",
    "        quickSort(a, p, q-1)\n",
    "        quickSort(a, q+1, r)\n",
    "    \n",
    "def partition(a, p, r):\n",
    "    pivot = a[r]\n",
    "    i = p-1\n",
    "    for j in range(p, r):\n",
    "        if a[j] <= pivot:\n",
    "            i += 1\n",
    "            a[i], a[j] = a[j], a[i]\n",
    "    \n",
    "    a[r], a[i+1] = a[i+1], a[r]\n",
    "    \n",
    "    return i+1\n",
    "    \n",
    "arr = [5, 3, 1, 6, 2, 4]\n",
    "quickSort(arr, 0, 5)\n",
    "print(arr)"
   ]
  },
  {
   "cell_type": "code",
   "execution_count": null,
   "metadata": {},
   "outputs": [],
   "source": []
  }
 ],
 "metadata": {
  "kernelspec": {
   "display_name": "Python 3",
   "language": "python",
   "name": "python3"
  },
  "language_info": {
   "codemirror_mode": {
    "name": "ipython",
    "version": 3
   },
   "file_extension": ".py",
   "mimetype": "text/x-python",
   "name": "python",
   "nbconvert_exporter": "python",
   "pygments_lexer": "ipython3",
   "version": "3.8.5"
  },
  "toc": {
   "base_numbering": 1,
   "nav_menu": {},
   "number_sections": true,
   "sideBar": true,
   "skip_h1_title": false,
   "title_cell": "Table of Contents",
   "title_sidebar": "Contents",
   "toc_cell": false,
   "toc_position": {},
   "toc_section_display": true,
   "toc_window_display": false
  }
 },
 "nbformat": 4,
 "nbformat_minor": 4
}
