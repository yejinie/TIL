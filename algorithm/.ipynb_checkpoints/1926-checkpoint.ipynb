{
 "cells": [
  {
   "cell_type": "code",
   "execution_count": 4,
   "metadata": {
    "ExecuteTime": {
     "end_time": "2021-07-25T06:50:02.515489Z",
     "start_time": "2021-07-25T06:50:01.125175Z"
    }
   },
   "outputs": [
    {
     "name": "stdout",
     "output_type": "stream",
     "text": [
      "10\n",
      "1 2 - 4 5 - 7 8 - 10 \n"
     ]
    }
   ],
   "source": [
    "#1926. 간단한 369게임\n",
    "\n",
    "N = int(input())\n",
    "result = ''\n",
    "\n",
    "\n",
    "for test_case in range(1, N + 1):\n",
    "    a = list(str(test_case))\n",
    "    cnt = 0\n",
    "    \n",
    "    for i in a:\n",
    "        if int(i) % 3 == 0 and int(i) != 0:\n",
    "            cnt += 1\n",
    "            \n",
    "    if(cnt==0):\n",
    "        result += str(test_case)\n",
    "    else:\n",
    "        for i in range(cnt):\n",
    "            result += '-'\n",
    "            \n",
    "    result += ' '\n",
    "            \n",
    "print(result)"
   ]
  },
  {
   "cell_type": "code",
   "execution_count": 6,
   "metadata": {
    "ExecuteTime": {
     "end_time": "2021-07-25T06:52:33.418773Z",
     "start_time": "2021-07-25T06:52:32.109153Z"
    }
   },
   "outputs": [
    {
     "name": "stdout",
     "output_type": "stream",
     "text": [
      "10\n",
      "\n",
      "\n",
      "-\n",
      "-\n",
      "-\n",
      "--\n",
      "--\n",
      "--\n",
      "---\n",
      "---\n",
      "---\n"
     ]
    }
   ],
   "source": [
    "N = int(input())\n",
    "result = ''\n",
    "\n",
    "for test_case in range(1, N + 1):\n",
    "    cnt = 0\n",
    "    a = list(str(test_case))\n",
    "    \n",
    "    if '3' in a:\n",
    "        cnt += a.count('3')\n",
    "    if '6' in a:\n",
    "        cnt += a.count('6')\n",
    "    if '9' in a:\n",
    "        cnt += a.count('9')\n",
    "        \n",
    "    if(cnt==0):\n",
    "        result.join(a)\n",
    "    else:\n",
    "        for i in range(cnt):\n",
    "            result += '-'\n",
    "            \n",
    "    print(result)\n",
    "            \n",
    "print(result)"
   ]
  },
  {
   "cell_type": "code",
   "execution_count": null,
   "metadata": {},
   "outputs": [],
   "source": []
  }
 ],
 "metadata": {
  "kernelspec": {
   "display_name": "Python 3",
   "language": "python",
   "name": "python3"
  },
  "language_info": {
   "codemirror_mode": {
    "name": "ipython",
    "version": 3
   },
   "file_extension": ".py",
   "mimetype": "text/x-python",
   "name": "python",
   "nbconvert_exporter": "python",
   "pygments_lexer": "ipython3",
   "version": "3.8.5"
  },
  "toc": {
   "base_numbering": 1,
   "nav_menu": {},
   "number_sections": true,
   "sideBar": true,
   "skip_h1_title": false,
   "title_cell": "Table of Contents",
   "title_sidebar": "Contents",
   "toc_cell": false,
   "toc_position": {},
   "toc_section_display": true,
   "toc_window_display": false
  }
 },
 "nbformat": 4,
 "nbformat_minor": 4
}
