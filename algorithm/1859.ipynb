{
 "cells": [
  {
   "cell_type": "code",
   "execution_count": 11,
   "metadata": {
    "ExecuteTime": {
     "end_time": "2021-07-20T04:29:40.238872Z",
     "start_time": "2021-07-20T04:29:29.134102Z"
    }
   },
   "outputs": [
    {
     "name": "stdout",
     "output_type": "stream",
     "text": [
      "3\n",
      "3\n",
      "10 7 6\n",
      "#1 0\n",
      "3\n",
      "3 5 9\n",
      "#2 10\n",
      "5\n",
      "1 1 3 1 2\n",
      "#3 5\n"
     ]
    }
   ],
   "source": [
    "#1859 runtime error - 8/10\n",
    "\n",
    "def test(a):\n",
    "    stack = []\n",
    "    \n",
    "    maxnum = 0\n",
    "    for i in reversed(a):\n",
    "        if i>maxnum:\n",
    "            stack.append(i)\n",
    "            maxnum=i\n",
    "        else:\n",
    "            stack.append(0)\n",
    "    \n",
    "    buy = 0\n",
    "    count = 0\n",
    "    sell = 0\n",
    "    \n",
    "    for i in range(len(a)):\n",
    "        if stack.pop():\n",
    "            if buy != 0:\n",
    "                sell += a[i] * count - buy \n",
    "                buy = 0\n",
    "                count = 0\n",
    "            continue\n",
    "        \n",
    "        buy += a[i]\n",
    "        count += 1\n",
    "        \n",
    "    return sell    \n",
    "\n",
    "T = int(input())\n",
    "for i in range(T):\n",
    "    N = int(input())\n",
    "    a = list(map(int, input().split()))\n",
    "    print('#{} {}'.format(i+1, test(a)))"
   ]
  },
  {
   "cell_type": "code",
   "execution_count": 2,
   "metadata": {
    "ExecuteTime": {
     "end_time": "2021-07-21T06:39:41.821525Z",
     "start_time": "2021-07-21T06:39:31.019302Z"
    }
   },
   "outputs": [
    {
     "name": "stdout",
     "output_type": "stream",
     "text": [
      "3\n",
      "3\n",
      "10 7 6\n",
      "#1 0\n",
      "3\n",
      "3 5 9\n",
      "#2 10\n",
      "5\n",
      "1 1 3 1 2\n",
      "#3 5\n"
     ]
    }
   ],
   "source": [
    "#1859\n",
    "\n",
    "def test(a):    \n",
    "    sell = 0\n",
    "    \n",
    "    maxnum = a.pop()\n",
    "    \n",
    "    for i in reversed(a):\n",
    "        if i>maxnum:\n",
    "            maxnum=i\n",
    "        else:\n",
    "            sell += maxnum - i\n",
    "\n",
    "    return sell\n",
    "\n",
    "\n",
    "T = int(input())\n",
    "for i in range(T):\n",
    "    N = int(input())\n",
    "    a = list(map(int, input().split()))\n",
    "    print('#{} {}'.format(i+1, test(a)))"
   ]
  },
  {
   "cell_type": "code",
   "execution_count": 3,
   "metadata": {
    "ExecuteTime": {
     "end_time": "2021-07-21T06:42:55.815231Z",
     "start_time": "2021-07-21T06:42:40.014603Z"
    }
   },
   "outputs": [
    {
     "name": "stdout",
     "output_type": "stream",
     "text": [
      "3\n",
      "3\n",
      "10 7 6\n",
      "#1 0\n",
      "3\n",
      "3 5 9\n",
      "#2 10\n",
      "5\n",
      "1 1 3 1 2\n",
      "#3 5\n"
     ]
    }
   ],
   "source": [
    "T = int(input())\n",
    "\n",
    "for test_case in range(1, T + 1):\n",
    "    N = int(input())\n",
    "    \n",
    "    a = list(map(int, input().split()))\n",
    "    \n",
    "    sell = 0\n",
    "    maxnum = a.pop()\n",
    "    \n",
    "    for i in reversed(a):\n",
    "        if i>maxnum:\n",
    "            maxnum=i\n",
    "        else:\n",
    "            sell += maxnum - i\n",
    "        \n",
    "    print('#{} {}'.format(test_case, sell))"
   ]
  },
  {
   "cell_type": "code",
   "execution_count": null,
   "metadata": {},
   "outputs": [],
   "source": []
  }
 ],
 "metadata": {
  "kernelspec": {
   "display_name": "Python 3",
   "language": "python",
   "name": "python3"
  },
  "language_info": {
   "codemirror_mode": {
    "name": "ipython",
    "version": 3
   },
   "file_extension": ".py",
   "mimetype": "text/x-python",
   "name": "python",
   "nbconvert_exporter": "python",
   "pygments_lexer": "ipython3",
   "version": "3.8.5"
  },
  "toc": {
   "base_numbering": 1,
   "nav_menu": {},
   "number_sections": true,
   "sideBar": true,
   "skip_h1_title": false,
   "title_cell": "Table of Contents",
   "title_sidebar": "Contents",
   "toc_cell": false,
   "toc_position": {},
   "toc_section_display": true,
   "toc_window_display": false
  }
 },
 "nbformat": 4,
 "nbformat_minor": 4
}
