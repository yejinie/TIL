{
 "cells": [
  {
   "cell_type": "code",
   "execution_count": 14,
   "metadata": {
    "ExecuteTime": {
     "end_time": "2021-07-22T06:01:23.397643Z",
     "start_time": "2021-07-22T06:01:22.002260Z"
    }
   },
   "outputs": [
    {
     "name": "stdout",
     "output_type": "stream",
     "text": [
      "10\n",
      "12-45-78-10\n"
     ]
    }
   ],
   "source": [
    "#1926. 간단한 369게임\n",
    "\n",
    "N = int(input())\n",
    "\n",
    "result = ''\n",
    "count = 0\n",
    "\n",
    "for test_case in range(1, N + 1):\n",
    "    a = list(str(test_case))\n",
    "    for i in a:\n",
    "        if int(i) % 3 == 0 and int(i) != 0:\n",
    "            count += 1\n",
    "            \n",
    "    if(count==0):\n",
    "        result += str(test_case)\n",
    "    else:\n",
    "        for i in range(count):\n",
    "            result += '-'\n",
    "            count = 0\n",
    "            \n",
    "    result += ' '\n",
    "            \n",
    "print(result)"
   ]
  },
  {
   "cell_type": "code",
   "execution_count": null,
   "metadata": {},
   "outputs": [],
   "source": []
  }
 ],
 "metadata": {
  "kernelspec": {
   "display_name": "Python 3",
   "language": "python",
   "name": "python3"
  },
  "language_info": {
   "codemirror_mode": {
    "name": "ipython",
    "version": 3
   },
   "file_extension": ".py",
   "mimetype": "text/x-python",
   "name": "python",
   "nbconvert_exporter": "python",
   "pygments_lexer": "ipython3",
   "version": "3.8.5"
  },
  "toc": {
   "base_numbering": 1,
   "nav_menu": {},
   "number_sections": true,
   "sideBar": true,
   "skip_h1_title": false,
   "title_cell": "Table of Contents",
   "title_sidebar": "Contents",
   "toc_cell": false,
   "toc_position": {},
   "toc_section_display": true,
   "toc_window_display": false
  }
 },
 "nbformat": 4,
 "nbformat_minor": 4
}
